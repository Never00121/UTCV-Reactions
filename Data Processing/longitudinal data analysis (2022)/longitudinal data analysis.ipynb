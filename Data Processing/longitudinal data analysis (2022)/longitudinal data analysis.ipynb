{
 "cells": [
  {
   "cell_type": "markdown",
   "metadata": {},
   "source": [
    "### Import library and locate txt files"
   ]
  },
  {
   "cell_type": "code",
   "execution_count": 1,
   "metadata": {},
   "outputs": [],
   "source": [
    "import pandas as pd\n",
    "import matplotlib.pyplot as plt\n",
    "import scipy.stats as stat\n",
    "import numpy as np\n",
    "import os\n",
    "import glob\n",
    "import re"
   ]
  },
  {
   "cell_type": "code",
   "execution_count": 2,
   "metadata": {},
   "outputs": [
    {
     "data": {
      "text/plain": [
       "['data\\\\11.txt',\n",
       " 'data\\\\12.txt',\n",
       " 'data\\\\13.txt',\n",
       " 'data\\\\14.txt',\n",
       " 'data\\\\15.txt',\n",
       " 'data\\\\16.txt',\n",
       " 'data\\\\17.txt',\n",
       " 'data\\\\18.txt',\n",
       " 'data\\\\20.txt',\n",
       " 'data\\\\21.txt',\n",
       " 'data\\\\22.txt',\n",
       " 'data\\\\23.txt',\n",
       " 'data\\\\24.txt',\n",
       " 'data\\\\25.txt',\n",
       " 'data\\\\26.txt',\n",
       " 'data\\\\27.txt',\n",
       " 'data\\\\31.txt',\n",
       " 'data\\\\32.txt',\n",
       " 'data\\\\33.txt',\n",
       " 'data\\\\34.txt',\n",
       " 'data\\\\35.txt',\n",
       " 'data\\\\36.txt',\n",
       " 'data\\\\37.txt',\n",
       " 'data\\\\38.txt',\n",
       " 'data\\\\39.txt',\n",
       " 'data\\\\4.txt',\n",
       " 'data\\\\40.txt',\n",
       " 'data\\\\41.txt',\n",
       " 'data\\\\42.txt',\n",
       " 'data\\\\43.txt',\n",
       " 'data\\\\44.txt',\n",
       " 'data\\\\45.txt',\n",
       " 'data\\\\46.txt',\n",
       " 'data\\\\48.txt',\n",
       " 'data\\\\49.txt',\n",
       " 'data\\\\5.txt',\n",
       " 'data\\\\50.txt',\n",
       " 'data\\\\6.txt',\n",
       " 'data\\\\7.txt',\n",
       " 'data\\\\8.txt',\n",
       " 'data\\\\9.txt']"
      ]
     },
     "execution_count": 2,
     "metadata": {},
     "output_type": "execute_result"
    }
   ],
   "source": [
    "# path = r'F:\\OneDrive - University of Toronto\\chemical vehicle\\22-23\\color sensor\\longitudinal data analysis\\data' # use your path\n",
    "path = r'data' \n",
    "all_files_path = glob.glob(os.path.join(path, \"*.txt\"))\n",
    "all_files_path # print all file locations to double check"
   ]
  },
  {
   "cell_type": "markdown",
   "metadata": {},
   "source": [
    "### Import data"
   ]
  },
  {
   "cell_type": "code",
   "execution_count": 3,
   "metadata": {},
   "outputs": [],
   "source": [
    "# Unit test code for trail No. < 16\n",
    "file_path = 'data\\\\6.txt'\n",
    "df_cb = []\n",
    "\n",
    "file_name = int(re.search('[\\w-]+?(?=\\.)', file_path).group()) # add Trail column so \n",
    "df = pd.read_csv(file_path, sep = \" \", header = None, engine='python') # import txt file, sepearate each row into columns by \" \"\n",
    "\n",
    "df.columns = [\"R\", \"G\", \"B\", \"C\", \"cur_avg\", \"prev_avg\", \"read_idx\", \"Time\", \"NaN\"] # Assign column name to each column\n",
    "Measured_time = float(df[df[\"R\"] == \"Measured\"][\"B\"])\n",
    "df.insert(9, \"Measured_time\", Measured_time)\n",
    "df = df.drop(df[df.R == \"Measured\"].index)\n",
    "\n",
    "df.R = pd.to_numeric(df.R.str[2:]) # remove the first n character of each entry and convert the cell type into integer\n",
    "df.G = pd.to_numeric(df.G.str[2:]) \n",
    "df.B = pd.to_numeric(df.B.str[2:])\n",
    "df.C =pd.to_numeric( df.C.str[2:])\n",
    "df.Time = pd.to_numeric(df.Time.str[5:])\n",
    "df.insert(0, \"trial\", file_name)\n",
    "df_cb.append(df)"
   ]
  },
  {
   "cell_type": "code",
   "execution_count": null,
   "metadata": {},
   "outputs": [],
   "source": [
    "# Unit test code for trail No. >= 16\n",
    "file_path = 'data\\\\16.txt'\n",
    "df_cb = []\n",
    "\n",
    "file_name = int(re.search('[\\w-]+?(?=\\.)', file_path).group()) # add Trail column so \n",
    "df = pd.read_csv(file_path, sep = \" \", header = None, engine='python') # import txt file, sepearate each row into columns by \" \"\n",
    "\n",
    "df = df.drop(df.columns[[8, 9, 11, 12]], axis = 1)\n",
    "df.columns = [\"R\", \"G\", \"B\", \"C\", \"cur_avg\", \"prev_avg\", \"read_idx\", \"Time\", \"Measured_time\"] # Assign column name to each column\n",
    "Measured_time = float(df[df[\"R\"] == \"Measured\"][\"B\"])\n",
    "df.Measured_time = Measured_time\n",
    "df = df.drop(df[df.R == \"Measured\"].index)\n",
    "\n",
    "df.R = pd.to_numeric(df.R.str[2:]) # remove the first n character of each entry and convert the cell type into integer\n",
    "df.G = pd.to_numeric(df.G.str[2:]) \n",
    "df.B = pd.to_numeric(df.B.str[2:])\n",
    "df.C =pd.to_numeric( df.C.str[2:])\n",
    "df.Time = pd.to_numeric(df.Time.str[5:])\n",
    "df.insert(0, \"trial\", file_name)\n",
    "df_cb.append(df)\n",
    "print(df_cb)\n",
    "\n",
    "file_path = 'data\\\\31.txt'\n",
    "df_cb = []\n",
    "\n",
    "file_name = int(re.search('[\\w-]+?(?=\\.)', file_path).group()) # add Trail column so \n",
    "df = pd.read_csv(file_path, sep = \" \", header = None, engine='python') # import txt file, sepearate each row into columns by \" \"\n",
    "print(df)"
   ]
  },
  {
   "cell_type": "code",
   "execution_count": null,
   "metadata": {},
   "outputs": [],
   "source": [
    "# Importing txt data files\n",
    "df_cb = [] # Creat a list to temporarily hold each txt df and concat at the end will save memory and running time\n",
    "for file_path in all_files_path:\n",
    "    file_name = int(re.search('[\\w-]+?(?=\\.)', file_path).group()) # add Trail column so \n",
    "    df = pd.read_csv(file_path, sep = \" \", header = None, engine='python') # import txt file, sepearate each row into columns by \" \"\n",
    "    df = df.drop(df[df[1] == \"Found\"].index)\n",
    "    \n",
    "    if int(file_name) < 16:\n",
    "        df.columns = [\"R\", \"G\", \"B\", \"C\", \"cur_avg\", \"prev_avg\", \"read_idx\", \"Time\", \"NaN\"] # Assign column name to each column\n",
    "        Measured_time = float(df[df[\"R\"] == \"Measured\"][\"B\"])\n",
    "        df.insert(9, \"Measured_time\", Measured_time)\n",
    "        df = df.drop(df[df.R == \"Measured\"].index)\n",
    "    elif int(file_name) >= 16:\n",
    "        df = df.drop(df.columns[[8, 9, 11, 12]], axis = 1)\n",
    "        df.columns = [\"R\", \"G\", \"B\", \"C\", \"cur_avg\", \"prev_avg\", \"read_idx\", \"Time\", \"Measured_time\"] # Assign column name to each column\n",
    "        Measured_time = float(df[df[\"R\"] == \"Measured\"][\"B\"])\n",
    "        df.Measured_time = Measured_time\n",
    "        df = df.drop(df[df.R == \"Measured\"].index)\n",
    "\n",
    "    df.R = pd.to_numeric(df.R.str[2:]) # remove the first n character of each entry and convert the cell type into integer\n",
    "    df.G = pd.to_numeric(df.G.str[2:]) \n",
    "    df.B = pd.to_numeric(df.B.str[2:])\n",
    "    df.C =pd.to_numeric( df.C.str[2:])\n",
    "    df.Time = pd.to_numeric(df.Time.str[5:])\n",
    "    df.insert(0, \"trial\", file_name)\n",
    "    df_cb.append(df)\n",
    "    print(file_name)\n",
    "\n",
    "df_cb = pd.concat(df_cb, axis=0, ignore_index=True) # df_cb is the dataframe that stores all data points\n",
    "df_cb.head() # print data head to double check"
   ]
  },
  {
   "cell_type": "code",
   "execution_count": 10,
   "metadata": {},
   "outputs": [
    {
     "data": {
      "text/html": [
       "<div>\n",
       "<style scoped>\n",
       "    .dataframe tbody tr th:only-of-type {\n",
       "        vertical-align: middle;\n",
       "    }\n",
       "\n",
       "    .dataframe tbody tr th {\n",
       "        vertical-align: top;\n",
       "    }\n",
       "\n",
       "    .dataframe thead th {\n",
       "        text-align: right;\n",
       "    }\n",
       "</style>\n",
       "<table border=\"1\" class=\"dataframe\">\n",
       "  <thead>\n",
       "    <tr style=\"text-align: right;\">\n",
       "      <th></th>\n",
       "      <th>trial</th>\n",
       "      <th>R</th>\n",
       "      <th>G</th>\n",
       "      <th>B</th>\n",
       "      <th>C</th>\n",
       "      <th>cur_avg</th>\n",
       "      <th>prev_avg</th>\n",
       "      <th>read_idx</th>\n",
       "      <th>Time</th>\n",
       "      <th>NaN</th>\n",
       "      <th>Measured_time</th>\n",
       "      <th>Dist_Antic</th>\n",
       "      <th>Time_Antic</th>\n",
       "    </tr>\n",
       "  </thead>\n",
       "  <tbody>\n",
       "    <tr>\n",
       "      <th>0</th>\n",
       "      <td>11</td>\n",
       "      <td>337</td>\n",
       "      <td>473</td>\n",
       "      <td>570</td>\n",
       "      <td>1497</td>\n",
       "      <td>cur_avg2659</td>\n",
       "      <td>prev_avg2776</td>\n",
       "      <td>read_idx2</td>\n",
       "      <td>0.123</td>\n",
       "      <td>NaN</td>\n",
       "      <td>54.687</td>\n",
       "      <td>15.0</td>\n",
       "      <td>52.71</td>\n",
       "    </tr>\n",
       "    <tr>\n",
       "      <th>1</th>\n",
       "      <td>11</td>\n",
       "      <td>336</td>\n",
       "      <td>465</td>\n",
       "      <td>558</td>\n",
       "      <td>1475</td>\n",
       "      <td>cur_avg2541</td>\n",
       "      <td>prev_avg2659</td>\n",
       "      <td>read_idx3</td>\n",
       "      <td>0.262</td>\n",
       "      <td>NaN</td>\n",
       "      <td>54.687</td>\n",
       "      <td>15.0</td>\n",
       "      <td>52.71</td>\n",
       "    </tr>\n",
       "    <tr>\n",
       "      <th>2</th>\n",
       "      <td>11</td>\n",
       "      <td>335</td>\n",
       "      <td>466</td>\n",
       "      <td>558</td>\n",
       "      <td>1477</td>\n",
       "      <td>cur_avg2423</td>\n",
       "      <td>prev_avg2541</td>\n",
       "      <td>read_idx4</td>\n",
       "      <td>0.401</td>\n",
       "      <td>NaN</td>\n",
       "      <td>54.687</td>\n",
       "      <td>15.0</td>\n",
       "      <td>52.71</td>\n",
       "    </tr>\n",
       "    <tr>\n",
       "      <th>3</th>\n",
       "      <td>11</td>\n",
       "      <td>334</td>\n",
       "      <td>463</td>\n",
       "      <td>554</td>\n",
       "      <td>1468</td>\n",
       "      <td>cur_avg2304</td>\n",
       "      <td>prev_avg2423</td>\n",
       "      <td>read_idx5</td>\n",
       "      <td>0.540</td>\n",
       "      <td>NaN</td>\n",
       "      <td>54.687</td>\n",
       "      <td>15.0</td>\n",
       "      <td>52.71</td>\n",
       "    </tr>\n",
       "    <tr>\n",
       "      <th>4</th>\n",
       "      <td>11</td>\n",
       "      <td>336</td>\n",
       "      <td>468</td>\n",
       "      <td>558</td>\n",
       "      <td>1481</td>\n",
       "      <td>cur_avg2187</td>\n",
       "      <td>prev_avg2304</td>\n",
       "      <td>read_idx6</td>\n",
       "      <td>0.679</td>\n",
       "      <td>NaN</td>\n",
       "      <td>54.687</td>\n",
       "      <td>15.0</td>\n",
       "      <td>52.71</td>\n",
       "    </tr>\n",
       "  </tbody>\n",
       "</table>\n",
       "</div>"
      ],
      "text/plain": [
       "   trial    R    G    B     C      cur_avg      prev_avg   read_idx   Time  \\\n",
       "0     11  337  473  570  1497  cur_avg2659  prev_avg2776  read_idx2  0.123   \n",
       "1     11  336  465  558  1475  cur_avg2541  prev_avg2659  read_idx3  0.262   \n",
       "2     11  335  466  558  1477  cur_avg2423  prev_avg2541  read_idx4  0.401   \n",
       "3     11  334  463  554  1468  cur_avg2304  prev_avg2423  read_idx5  0.540   \n",
       "4     11  336  468  558  1481  cur_avg2187  prev_avg2304  read_idx6  0.679   \n",
       "\n",
       "   NaN  Measured_time  Dist_Antic  Time_Antic  \n",
       "0  NaN         54.687        15.0       52.71  \n",
       "1  NaN         54.687        15.0       52.71  \n",
       "2  NaN         54.687        15.0       52.71  \n",
       "3  NaN         54.687        15.0       52.71  \n",
       "4  NaN         54.687        15.0       52.71  "
      ]
     },
     "execution_count": 10,
     "metadata": {},
     "output_type": "execute_result"
    }
   ],
   "source": [
    "# Import lab info for each trail and compile it to df_cb\n",
    "df_lab = pd.read_csv(\"lab_info/Lab Data - Blue Bottle - 2022 Fall - Data.csv\") #import the csv file\n",
    "df_lab = df_lab.rename({'Distance, Anticip.': 'Dist_Antic', 'Run ID': 'trial', 'Time, Anticip.': 'Time_Antic'}, axis = 1) #Rename column name for easier reference later\n",
    "df_lab.head() #Check data\n",
    "\n",
    "# Attah lab info (anticipated distance) to df_cb\n",
    "df_cb_lab = df_cb.merge(df_lab[[\"trial\", \"Dist_Antic\", \"Time_Antic\"]], on = \"trial\", how = 'left')\n",
    "df_cb_lab.head()"
   ]
  },
  {
   "cell_type": "markdown",
   "metadata": {},
   "source": [
    "### Plotting"
   ]
  },
  {
   "cell_type": "code",
   "execution_count": 32,
   "metadata": {},
   "outputs": [],
   "source": [
    "df_measured_time = df_cb_lab[df_cb_lab[\"Time\"] == df_cb_lab[\"Measured_time\"]] # generate a summary df for all end points\n",
    "df_antic_time = df_cb_lab.groupby('Dist_Antic')['Time_Antic'].mean() # generate summary df for all anticipated endtime\n",
    "df_antic_time = df_antic_time.reset_index()"
   ]
  },
  {
   "cell_type": "code",
   "execution_count": 35,
   "metadata": {},
   "outputs": [],
   "source": [
    "# Set Anticpated distance\n",
    "Antic_dist = 21\n",
    "Antic_time = df_antic_time[df_antic_time[\"Dist_Antic\"] == Antic_dist][\"Time_Antic\"]"
   ]
  },
  {
   "cell_type": "code",
   "execution_count": 36,
   "metadata": {},
   "outputs": [
    {
     "data": {
      "text/plain": [
       "<matplotlib.legend.Legend at 0x235a58f2cb0>"
      ]
     },
     "execution_count": 36,
     "metadata": {},
     "output_type": "execute_result"
    },
    {
     "data": {
      "image/png": "[encoded data removed]",
      "text/plain": [
       "<Figure size 1000x1000 with 1 Axes>"
      ]
     },
     "metadata": {},
     "output_type": "display_data"
    }
   ],
   "source": [
    "df_plot = df_cb_lab[df_cb_lab[\"C\"] < 2600] # Remove irregular data points at the beginging\n",
    "df_plot = df_plot[df_plot[\"Dist_Antic\"] == Antic_dist] # Pick trials with anticipated distance\n",
    "df_measured_time = df_measured_time[df_measured_time[\"Dist_Antic\"] == Antic_dist]\n",
    "\n",
    "\n",
    "fig, ax = plt.subplots(figsize = (10,10)) # Setting subplot property\n",
    "scatter = ax.scatter(df_plot.Time, df_plot.C, c=df_plot.trial, s = 2)\n",
    "scatter_2 = ax.scatter(df_measured_time.Time, df_measured_time.C, c = \"red\", s = 3)\n",
    "vline_1 = ax.vlines(x = Antic_time, ymin = 0, ymax = 2200, color = 'b')\n",
    "legend_c = ax.legend(*scatter.legend_elements(), loc=\"lower right\", title=\"trial\")\n",
    "ax.add_artist(legend_c)\n"
   ]
  }
 ],
 "metadata": {
  "kernelspec": {
   "display_name": "Python 3.10.5 64-bit",
   "language": "python",
   "name": "python3"
  },
  "language_info": {
   "codemirror_mode": {
    "name": "ipython",
    "version": 3
   },
   "file_extension": ".py",
   "mimetype": "text/x-python",
   "name": "python",
   "nbconvert_exporter": "python",
   "pygments_lexer": "ipython3",
   "version": "3.10.5"
  },
  "orig_nbformat": 4,
  "vscode": {
   "interpreter": {
    "hash": "2b87d9ab856f2aa4ce624520688f5100119f650861acf672fa7a35391340817c"
   }
  }
 },
 "nbformat": 4,
 "nbformat_minor": 2
}
